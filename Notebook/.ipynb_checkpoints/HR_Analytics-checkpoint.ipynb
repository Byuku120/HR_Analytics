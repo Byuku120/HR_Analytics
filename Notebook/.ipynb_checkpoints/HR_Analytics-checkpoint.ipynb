{
 "cells": [
  {
   "cell_type": "code",
   "execution_count": 1,
   "id": "4195a16d-3a5a-4530-bd33-78ec2179ca7e",
   "metadata": {},
   "outputs": [],
   "source": [
    "import pandas as pd\n",
    "import numpy as np \n",
    "import os\n",
    "import plotly.express as px"
   ]
  },
  {
   "cell_type": "code",
   "execution_count": 2,
   "id": "4c2c509f-c985-467d-9474-1777b5f4320a",
   "metadata": {},
   "outputs": [
    {
     "data": {
      "text/html": [
       "<div>\n",
       "<style scoped>\n",
       "    .dataframe tbody tr th:only-of-type {\n",
       "        vertical-align: middle;\n",
       "    }\n",
       "\n",
       "    .dataframe tbody tr th {\n",
       "        vertical-align: top;\n",
       "    }\n",
       "\n",
       "    .dataframe thead th {\n",
       "        text-align: right;\n",
       "    }\n",
       "</style>\n",
       "<table border=\"1\" class=\"dataframe\">\n",
       "  <thead>\n",
       "    <tr style=\"text-align: right;\">\n",
       "      <th></th>\n",
       "      <th>EmpID</th>\n",
       "      <th>Age</th>\n",
       "      <th>AgeGroup</th>\n",
       "      <th>Attrition</th>\n",
       "      <th>BusinessTravel</th>\n",
       "      <th>DailyRate</th>\n",
       "      <th>Department</th>\n",
       "      <th>DistanceFromHome</th>\n",
       "      <th>Education</th>\n",
       "      <th>EducationField</th>\n",
       "      <th>...</th>\n",
       "      <th>YearsAtCompany</th>\n",
       "      <th>YearsInCurrentRole</th>\n",
       "      <th>YearsSinceLastPromotion</th>\n",
       "      <th>YearsWithCurrManager</th>\n",
       "      <th>Education_Level</th>\n",
       "      <th>JobLevelLabel</th>\n",
       "      <th>JobInvolveLabel</th>\n",
       "      <th>StockOptionLevel_Description</th>\n",
       "      <th>RelationshipSatisfaction_Label</th>\n",
       "      <th>WorkLifeLabel</th>\n",
       "    </tr>\n",
       "  </thead>\n",
       "  <tbody>\n",
       "    <tr>\n",
       "      <th>0</th>\n",
       "      <td>RM297</td>\n",
       "      <td>18</td>\n",
       "      <td>18-25</td>\n",
       "      <td>Yes</td>\n",
       "      <td>Travel_Rarely</td>\n",
       "      <td>230</td>\n",
       "      <td>Research &amp; Development</td>\n",
       "      <td>3</td>\n",
       "      <td>3</td>\n",
       "      <td>Life Sciences</td>\n",
       "      <td>...</td>\n",
       "      <td>0</td>\n",
       "      <td>0</td>\n",
       "      <td>0</td>\n",
       "      <td>0.0</td>\n",
       "      <td>Bachelor</td>\n",
       "      <td>Junior</td>\n",
       "      <td>Senior</td>\n",
       "      <td>No Stock Options</td>\n",
       "      <td>Good</td>\n",
       "      <td>Good</td>\n",
       "    </tr>\n",
       "    <tr>\n",
       "      <th>1</th>\n",
       "      <td>RM302</td>\n",
       "      <td>18</td>\n",
       "      <td>18-25</td>\n",
       "      <td>No</td>\n",
       "      <td>Travel_Rarely</td>\n",
       "      <td>812</td>\n",
       "      <td>Sales</td>\n",
       "      <td>10</td>\n",
       "      <td>3</td>\n",
       "      <td>Medical</td>\n",
       "      <td>...</td>\n",
       "      <td>0</td>\n",
       "      <td>0</td>\n",
       "      <td>0</td>\n",
       "      <td>0.0</td>\n",
       "      <td>Bachelor</td>\n",
       "      <td>Junior</td>\n",
       "      <td>Intermediate</td>\n",
       "      <td>No Stock Options</td>\n",
       "      <td>Few</td>\n",
       "      <td>Good</td>\n",
       "    </tr>\n",
       "    <tr>\n",
       "      <th>2</th>\n",
       "      <td>RM458</td>\n",
       "      <td>18</td>\n",
       "      <td>18-25</td>\n",
       "      <td>Yes</td>\n",
       "      <td>Travel_Frequently</td>\n",
       "      <td>1306</td>\n",
       "      <td>Sales</td>\n",
       "      <td>5</td>\n",
       "      <td>3</td>\n",
       "      <td>Marketing</td>\n",
       "      <td>...</td>\n",
       "      <td>0</td>\n",
       "      <td>0</td>\n",
       "      <td>0</td>\n",
       "      <td>0.0</td>\n",
       "      <td>Bachelor</td>\n",
       "      <td>Junior</td>\n",
       "      <td>Senior</td>\n",
       "      <td>No Stock Options</td>\n",
       "      <td>Very Good</td>\n",
       "      <td>Good</td>\n",
       "    </tr>\n",
       "    <tr>\n",
       "      <th>3</th>\n",
       "      <td>RM728</td>\n",
       "      <td>18</td>\n",
       "      <td>18-25</td>\n",
       "      <td>No</td>\n",
       "      <td>Non-Travel</td>\n",
       "      <td>287</td>\n",
       "      <td>Research &amp; Development</td>\n",
       "      <td>5</td>\n",
       "      <td>2</td>\n",
       "      <td>Life Sciences</td>\n",
       "      <td>...</td>\n",
       "      <td>0</td>\n",
       "      <td>0</td>\n",
       "      <td>0</td>\n",
       "      <td>0.0</td>\n",
       "      <td>College</td>\n",
       "      <td>Junior</td>\n",
       "      <td>Senior</td>\n",
       "      <td>No Stock Options</td>\n",
       "      <td>Very Good</td>\n",
       "      <td>Good</td>\n",
       "    </tr>\n",
       "    <tr>\n",
       "      <th>4</th>\n",
       "      <td>RM829</td>\n",
       "      <td>18</td>\n",
       "      <td>18-25</td>\n",
       "      <td>Yes</td>\n",
       "      <td>Non-Travel</td>\n",
       "      <td>247</td>\n",
       "      <td>Research &amp; Development</td>\n",
       "      <td>8</td>\n",
       "      <td>1</td>\n",
       "      <td>Medical</td>\n",
       "      <td>...</td>\n",
       "      <td>0</td>\n",
       "      <td>0</td>\n",
       "      <td>0</td>\n",
       "      <td>0.0</td>\n",
       "      <td>Below College</td>\n",
       "      <td>Junior</td>\n",
       "      <td>Senior</td>\n",
       "      <td>No Stock Options</td>\n",
       "      <td>Very Good</td>\n",
       "      <td>Good</td>\n",
       "    </tr>\n",
       "  </tbody>\n",
       "</table>\n",
       "<p>5 rows × 39 columns</p>\n",
       "</div>"
      ],
      "text/plain": [
       "   EmpID  Age AgeGroup Attrition     BusinessTravel  DailyRate  \\\n",
       "0  RM297   18    18-25       Yes      Travel_Rarely        230   \n",
       "1  RM302   18    18-25        No      Travel_Rarely        812   \n",
       "2  RM458   18    18-25       Yes  Travel_Frequently       1306   \n",
       "3  RM728   18    18-25        No         Non-Travel        287   \n",
       "4  RM829   18    18-25       Yes         Non-Travel        247   \n",
       "\n",
       "               Department  DistanceFromHome  Education EducationField  ...  \\\n",
       "0  Research & Development                 3          3  Life Sciences  ...   \n",
       "1                   Sales                10          3        Medical  ...   \n",
       "2                   Sales                 5          3      Marketing  ...   \n",
       "3  Research & Development                 5          2  Life Sciences  ...   \n",
       "4  Research & Development                 8          1        Medical  ...   \n",
       "\n",
       "   YearsAtCompany YearsInCurrentRole  YearsSinceLastPromotion  \\\n",
       "0               0                  0                        0   \n",
       "1               0                  0                        0   \n",
       "2               0                  0                        0   \n",
       "3               0                  0                        0   \n",
       "4               0                  0                        0   \n",
       "\n",
       "   YearsWithCurrManager  Education_Level JobLevelLabel  JobInvolveLabel  \\\n",
       "0                   0.0         Bachelor        Junior           Senior   \n",
       "1                   0.0         Bachelor        Junior     Intermediate   \n",
       "2                   0.0         Bachelor        Junior           Senior   \n",
       "3                   0.0          College        Junior           Senior   \n",
       "4                   0.0    Below College        Junior           Senior   \n",
       "\n",
       "  StockOptionLevel_Description  RelationshipSatisfaction_Label  WorkLifeLabel  \n",
       "0             No Stock Options                            Good           Good  \n",
       "1             No Stock Options                             Few           Good  \n",
       "2             No Stock Options                       Very Good           Good  \n",
       "3             No Stock Options                       Very Good           Good  \n",
       "4             No Stock Options                       Very Good           Good  \n",
       "\n",
       "[5 rows x 39 columns]"
      ]
     },
     "execution_count": 2,
     "metadata": {},
     "output_type": "execute_result"
    }
   ],
   "source": [
    "HR_Analytics= pd.read_csv('HR_Analytics.csv')\n",
    "HR_Analytics.head()"
   ]
  },
  {
   "cell_type": "code",
   "execution_count": 3,
   "id": "c2277a49-d9a6-4b9c-bc9d-eabec02981a3",
   "metadata": {},
   "outputs": [
    {
     "data": {
      "text/plain": [
       "(1473, 39)"
      ]
     },
     "execution_count": 3,
     "metadata": {},
     "output_type": "execute_result"
    }
   ],
   "source": [
    "HR_Analytics.shape"
   ]
  },
  {
   "cell_type": "code",
   "execution_count": 4,
   "id": "77e4e074-c9ba-4312-9915-0aa00e616cfe",
   "metadata": {},
   "outputs": [
    {
     "name": "stdout",
     "output_type": "stream",
     "text": [
      "<class 'pandas.core.frame.DataFrame'>\n",
      "RangeIndex: 1473 entries, 0 to 1472\n",
      "Data columns (total 39 columns):\n",
      " #   Column                          Non-Null Count  Dtype \n",
      "---  ------                          --------------  ----- \n",
      " 0   EmpID                           1473 non-null   object\n",
      " 1   Age                             1473 non-null   int64 \n",
      " 2   AgeGroup                        1473 non-null   object\n",
      " 3   Attrition                       1473 non-null   object\n",
      " 4   BusinessTravel                  1473 non-null   object\n",
      " 5   DailyRate                       1473 non-null   int64 \n",
      " 6   Department                      1473 non-null   object\n",
      " 7   DistanceFromHome                1473 non-null   int64 \n",
      " 8   Education                       1473 non-null   int64 \n",
      " 9   EducationField                  1473 non-null   object\n",
      " 10  EnvSatisfaction                 1473 non-null   int64 \n",
      " 11  Gender                          1473 non-null   object\n",
      " 12  HourlyRate                      1473 non-null   int64 \n",
      " 13  JobInvolvement                  1473 non-null   int64 \n",
      " 14  JobLevel                        1473 non-null   int64 \n",
      " 15  JobRole                         1473 non-null   object\n",
      " 16  JobSatisfaction                 1473 non-null   int64 \n",
      " 17  MaritalStatus                   1473 non-null   object\n",
      " 18  MonthlyIncome                   1473 non-null   int64 \n",
      " 19  MonthlyRate                     1473 non-null   int64 \n",
      " 20  NumCompaniesWorked              1473 non-null   int64 \n",
      " 21  OverTime                        1473 non-null   object\n",
      " 22  PercentSalaryHike               1473 non-null   int64 \n",
      " 23  PerformanceRating               1473 non-null   int64 \n",
      " 24  RelationshipSatisfaction        1473 non-null   int64 \n",
      " 25  StockOptionLevel                1473 non-null   int64 \n",
      " 26  TotalWorkingYears               1473 non-null   int64 \n",
      " 27  TrainingTimesLastYear           1473 non-null   int64 \n",
      " 28  WorkLifeBalance                 1473 non-null   int64 \n",
      " 29  YearsAtCompany                  1473 non-null   int64 \n",
      " 30  YearsInCurrentRole              1473 non-null   int64 \n",
      " 31  YearsSinceLastPromotion         1473 non-null   int64 \n",
      " 32  YearsWithCurrManager            1473 non-null   object\n",
      " 33  Education_Level                 1473 non-null   object\n",
      " 34  JobLevelLabel                   1473 non-null   object\n",
      " 35  JobInvolveLabel                 1473 non-null   object\n",
      " 36  StockOptionLevel_Description    1473 non-null   object\n",
      " 37  RelationshipSatisfaction_Label  1473 non-null   object\n",
      " 38  WorkLifeLabel                   1473 non-null   object\n",
      "dtypes: int64(22), object(17)\n",
      "memory usage: 448.9+ KB\n"
     ]
    }
   ],
   "source": [
    "HR_Analytics.info()"
   ]
  },
  {
   "cell_type": "code",
   "execution_count": 5,
   "id": "8c50f441-f676-4c6f-9ad6-0667454a6b48",
   "metadata": {},
   "outputs": [
    {
     "data": {
      "text/plain": [
       "EmpID                             0\n",
       "Age                               0\n",
       "AgeGroup                          0\n",
       "Attrition                         0\n",
       "BusinessTravel                    0\n",
       "DailyRate                         0\n",
       "Department                        0\n",
       "DistanceFromHome                  0\n",
       "Education                         0\n",
       "EducationField                    0\n",
       "EnvSatisfaction                   0\n",
       "Gender                            0\n",
       "HourlyRate                        0\n",
       "JobInvolvement                    0\n",
       "JobLevel                          0\n",
       "JobRole                           0\n",
       "JobSatisfaction                   0\n",
       "MaritalStatus                     0\n",
       "MonthlyIncome                     0\n",
       "MonthlyRate                       0\n",
       "NumCompaniesWorked                0\n",
       "OverTime                          0\n",
       "PercentSalaryHike                 0\n",
       "PerformanceRating                 0\n",
       "RelationshipSatisfaction          0\n",
       "StockOptionLevel                  0\n",
       "TotalWorkingYears                 0\n",
       "TrainingTimesLastYear             0\n",
       "WorkLifeBalance                   0\n",
       "YearsAtCompany                    0\n",
       "YearsInCurrentRole                0\n",
       "YearsSinceLastPromotion           0\n",
       "YearsWithCurrManager              0\n",
       "Education_Level                   0\n",
       "JobLevelLabel                     0\n",
       "JobInvolveLabel                   0\n",
       "StockOptionLevel_Description      0\n",
       "RelationshipSatisfaction_Label    0\n",
       "WorkLifeLabel                     0\n",
       "dtype: int64"
      ]
     },
     "execution_count": 5,
     "metadata": {},
     "output_type": "execute_result"
    }
   ],
   "source": [
    "HR_Analytics.isnull().sum()"
   ]
  },
  {
   "cell_type": "code",
   "execution_count": 6,
   "id": "57e87195-a29f-44c3-b0df-a82e8abcf491",
   "metadata": {},
   "outputs": [],
   "source": [
    "HR_Analytics['YearsWithCurrManager']=HR_Analytics['YearsWithCurrManager'].fillna('unknown')"
   ]
  },
  {
   "cell_type": "code",
   "execution_count": 7,
   "id": "0663991f-d1cf-4ebf-8f25-25b57fcb78eb",
   "metadata": {},
   "outputs": [
    {
     "data": {
      "text/plain": [
       "EmpID                             0\n",
       "Age                               0\n",
       "AgeGroup                          0\n",
       "Attrition                         0\n",
       "BusinessTravel                    0\n",
       "DailyRate                         0\n",
       "Department                        0\n",
       "DistanceFromHome                  0\n",
       "Education                         0\n",
       "EducationField                    0\n",
       "EnvSatisfaction                   0\n",
       "Gender                            0\n",
       "HourlyRate                        0\n",
       "JobInvolvement                    0\n",
       "JobLevel                          0\n",
       "JobRole                           0\n",
       "JobSatisfaction                   0\n",
       "MaritalStatus                     0\n",
       "MonthlyIncome                     0\n",
       "MonthlyRate                       0\n",
       "NumCompaniesWorked                0\n",
       "OverTime                          0\n",
       "PercentSalaryHike                 0\n",
       "PerformanceRating                 0\n",
       "RelationshipSatisfaction          0\n",
       "StockOptionLevel                  0\n",
       "TotalWorkingYears                 0\n",
       "TrainingTimesLastYear             0\n",
       "WorkLifeBalance                   0\n",
       "YearsAtCompany                    0\n",
       "YearsInCurrentRole                0\n",
       "YearsSinceLastPromotion           0\n",
       "YearsWithCurrManager              0\n",
       "Education_Level                   0\n",
       "JobLevelLabel                     0\n",
       "JobInvolveLabel                   0\n",
       "StockOptionLevel_Description      0\n",
       "RelationshipSatisfaction_Label    0\n",
       "WorkLifeLabel                     0\n",
       "dtype: int64"
      ]
     },
     "execution_count": 7,
     "metadata": {},
     "output_type": "execute_result"
    }
   ],
   "source": [
    "HR_Analytics.isnull().sum()"
   ]
  },
  {
   "cell_type": "code",
   "execution_count": 8,
   "id": "8affc38c-cdc6-4c4b-b603-d785d5341ab6",
   "metadata": {},
   "outputs": [
    {
     "data": {
      "text/plain": [
       "0"
      ]
     },
     "execution_count": 8,
     "metadata": {},
     "output_type": "execute_result"
    }
   ],
   "source": [
    "HR_Analytics.duplicated().sum()"
   ]
  },
  {
   "cell_type": "code",
   "execution_count": 9,
   "id": "2e4c208e-9a5d-4a30-b663-67b7110cd673",
   "metadata": {},
   "outputs": [
    {
     "data": {
      "text/html": [
       "<div>\n",
       "<style scoped>\n",
       "    .dataframe tbody tr th:only-of-type {\n",
       "        vertical-align: middle;\n",
       "    }\n",
       "\n",
       "    .dataframe tbody tr th {\n",
       "        vertical-align: top;\n",
       "    }\n",
       "\n",
       "    .dataframe thead th {\n",
       "        text-align: right;\n",
       "    }\n",
       "</style>\n",
       "<table border=\"1\" class=\"dataframe\">\n",
       "  <thead>\n",
       "    <tr style=\"text-align: right;\">\n",
       "      <th></th>\n",
       "      <th>EmpID</th>\n",
       "      <th>Age</th>\n",
       "      <th>AgeGroup</th>\n",
       "      <th>Attrition</th>\n",
       "      <th>BusinessTravel</th>\n",
       "      <th>DailyRate</th>\n",
       "      <th>Department</th>\n",
       "      <th>DistanceFromHome</th>\n",
       "      <th>Education</th>\n",
       "      <th>EducationField</th>\n",
       "      <th>...</th>\n",
       "      <th>YearsAtCompany</th>\n",
       "      <th>YearsInCurrentRole</th>\n",
       "      <th>YearsSinceLastPromotion</th>\n",
       "      <th>YearsWithCurrManager</th>\n",
       "      <th>Education_Level</th>\n",
       "      <th>JobLevelLabel</th>\n",
       "      <th>JobInvolveLabel</th>\n",
       "      <th>StockOptionLevel_Description</th>\n",
       "      <th>RelationshipSatisfaction_Label</th>\n",
       "      <th>WorkLifeLabel</th>\n",
       "    </tr>\n",
       "  </thead>\n",
       "  <tbody>\n",
       "  </tbody>\n",
       "</table>\n",
       "<p>0 rows × 39 columns</p>\n",
       "</div>"
      ],
      "text/plain": [
       "Empty DataFrame\n",
       "Columns: [EmpID, Age, AgeGroup, Attrition, BusinessTravel, DailyRate, Department, DistanceFromHome, Education, EducationField, EnvSatisfaction, Gender, HourlyRate, JobInvolvement, JobLevel, JobRole, JobSatisfaction, MaritalStatus, MonthlyIncome, MonthlyRate, NumCompaniesWorked, OverTime, PercentSalaryHike, PerformanceRating, RelationshipSatisfaction, StockOptionLevel, TotalWorkingYears, TrainingTimesLastYear, WorkLifeBalance, YearsAtCompany, YearsInCurrentRole, YearsSinceLastPromotion, YearsWithCurrManager, Education_Level, JobLevelLabel, JobInvolveLabel, StockOptionLevel_Description, RelationshipSatisfaction_Label, WorkLifeLabel]\n",
       "Index: []\n",
       "\n",
       "[0 rows x 39 columns]"
      ]
     },
     "execution_count": 9,
     "metadata": {},
     "output_type": "execute_result"
    }
   ],
   "source": [
    "HR_Analytics[HR_Analytics.duplicated(keep=False)]"
   ]
  },
  {
   "cell_type": "code",
   "execution_count": 10,
   "id": "27584985-4c2a-404e-9f6a-72be12b140fc",
   "metadata": {},
   "outputs": [],
   "source": [
    "HR_Analytics= HR_Analytics.drop_duplicates()"
   ]
  },
  {
   "cell_type": "code",
   "execution_count": 11,
   "id": "6378ae2c-de87-4d85-b6e4-358499842437",
   "metadata": {},
   "outputs": [
    {
     "data": {
      "text/plain": [
       "0"
      ]
     },
     "execution_count": 11,
     "metadata": {},
     "output_type": "execute_result"
    }
   ],
   "source": [
    "HR_Analytics.duplicated().sum()"
   ]
  },
  {
   "cell_type": "code",
   "execution_count": 12,
   "id": "9f3bf36e-ca9e-4a7d-b5c5-de9beb716182",
   "metadata": {},
   "outputs": [
    {
     "data": {
      "text/plain": [
       "(1473, 39)"
      ]
     },
     "execution_count": 12,
     "metadata": {},
     "output_type": "execute_result"
    }
   ],
   "source": [
    "HR_Analytics.shape"
   ]
  },
  {
   "cell_type": "code",
   "execution_count": 13,
   "id": "b8e4ecaa-f727-43e2-b5a8-bace3cf897c9",
   "metadata": {},
   "outputs": [
    {
     "data": {
      "text/plain": [
       "EmpID                              True\n",
       "Age                               False\n",
       "AgeGroup                           True\n",
       "Attrition                          True\n",
       "BusinessTravel                     True\n",
       "DailyRate                         False\n",
       "Department                         True\n",
       "DistanceFromHome                  False\n",
       "Education                         False\n",
       "EducationField                     True\n",
       "EnvSatisfaction                   False\n",
       "Gender                             True\n",
       "HourlyRate                        False\n",
       "JobInvolvement                    False\n",
       "JobLevel                          False\n",
       "JobRole                            True\n",
       "JobSatisfaction                   False\n",
       "MaritalStatus                      True\n",
       "MonthlyIncome                     False\n",
       "MonthlyRate                       False\n",
       "NumCompaniesWorked                False\n",
       "OverTime                           True\n",
       "PercentSalaryHike                 False\n",
       "PerformanceRating                 False\n",
       "RelationshipSatisfaction          False\n",
       "StockOptionLevel                  False\n",
       "TotalWorkingYears                 False\n",
       "TrainingTimesLastYear             False\n",
       "WorkLifeBalance                   False\n",
       "YearsAtCompany                    False\n",
       "YearsInCurrentRole                False\n",
       "YearsSinceLastPromotion           False\n",
       "YearsWithCurrManager               True\n",
       "Education_Level                    True\n",
       "JobLevelLabel                      True\n",
       "JobInvolveLabel                    True\n",
       "StockOptionLevel_Description       True\n",
       "RelationshipSatisfaction_Label     True\n",
       "WorkLifeLabel                      True\n",
       "dtype: bool"
      ]
     },
     "execution_count": 13,
     "metadata": {},
     "output_type": "execute_result"
    }
   ],
   "source": [
    "HR_Analytics.dtypes == object"
   ]
  },
  {
   "cell_type": "code",
   "execution_count": 18,
   "id": "28318480-505f-4aa1-bc6e-dcdb9482b5fc",
   "metadata": {},
   "outputs": [
    {
     "ename": "KeyError",
     "evalue": "\"['Over18', 'SalarySlab', 'EmployeeCount', 'StandardHours', 'EmployeeNumber'] not found in axis\"",
     "output_type": "error",
     "traceback": [
      "\u001b[1;31m---------------------------------------------------------------------------\u001b[0m",
      "\u001b[1;31mKeyError\u001b[0m                                  Traceback (most recent call last)",
      "Cell \u001b[1;32mIn[18], line 1\u001b[0m\n\u001b[1;32m----> 1\u001b[0m HR_Analytics\u001b[38;5;241m.\u001b[39mdrop(columns\u001b[38;5;241m=\u001b[39m[\u001b[38;5;124m'\u001b[39m\u001b[38;5;124mOver18\u001b[39m\u001b[38;5;124m'\u001b[39m, \u001b[38;5;124m'\u001b[39m\u001b[38;5;124mSalarySlab\u001b[39m\u001b[38;5;124m'\u001b[39m, \u001b[38;5;124m'\u001b[39m\u001b[38;5;124mEmployeeCount\u001b[39m\u001b[38;5;124m'\u001b[39m, \u001b[38;5;124m'\u001b[39m\u001b[38;5;124mStandardHours\u001b[39m\u001b[38;5;124m'\u001b[39m, \u001b[38;5;124m'\u001b[39m\u001b[38;5;124mEmployeeNumber\u001b[39m\u001b[38;5;124m'\u001b[39m], inplace\u001b[38;5;241m=\u001b[39m \u001b[38;5;28;01mTrue\u001b[39;00m)\n",
      "File \u001b[1;32m~\\anacond\\Lib\\site-packages\\pandas\\core\\frame.py:5581\u001b[0m, in \u001b[0;36mDataFrame.drop\u001b[1;34m(self, labels, axis, index, columns, level, inplace, errors)\u001b[0m\n\u001b[0;32m   5433\u001b[0m \u001b[38;5;28;01mdef\u001b[39;00m \u001b[38;5;21mdrop\u001b[39m(\n\u001b[0;32m   5434\u001b[0m     \u001b[38;5;28mself\u001b[39m,\n\u001b[0;32m   5435\u001b[0m     labels: IndexLabel \u001b[38;5;241m|\u001b[39m \u001b[38;5;28;01mNone\u001b[39;00m \u001b[38;5;241m=\u001b[39m \u001b[38;5;28;01mNone\u001b[39;00m,\n\u001b[1;32m   (...)\u001b[0m\n\u001b[0;32m   5442\u001b[0m     errors: IgnoreRaise \u001b[38;5;241m=\u001b[39m \u001b[38;5;124m\"\u001b[39m\u001b[38;5;124mraise\u001b[39m\u001b[38;5;124m\"\u001b[39m,\n\u001b[0;32m   5443\u001b[0m ) \u001b[38;5;241m-\u001b[39m\u001b[38;5;241m>\u001b[39m DataFrame \u001b[38;5;241m|\u001b[39m \u001b[38;5;28;01mNone\u001b[39;00m:\n\u001b[0;32m   5444\u001b[0m \u001b[38;5;250m    \u001b[39m\u001b[38;5;124;03m\"\"\"\u001b[39;00m\n\u001b[0;32m   5445\u001b[0m \u001b[38;5;124;03m    Drop specified labels from rows or columns.\u001b[39;00m\n\u001b[0;32m   5446\u001b[0m \n\u001b[1;32m   (...)\u001b[0m\n\u001b[0;32m   5579\u001b[0m \u001b[38;5;124;03m            weight  1.0     0.8\u001b[39;00m\n\u001b[0;32m   5580\u001b[0m \u001b[38;5;124;03m    \"\"\"\u001b[39;00m\n\u001b[1;32m-> 5581\u001b[0m     \u001b[38;5;28;01mreturn\u001b[39;00m \u001b[38;5;28msuper\u001b[39m()\u001b[38;5;241m.\u001b[39mdrop(\n\u001b[0;32m   5582\u001b[0m         labels\u001b[38;5;241m=\u001b[39mlabels,\n\u001b[0;32m   5583\u001b[0m         axis\u001b[38;5;241m=\u001b[39maxis,\n\u001b[0;32m   5584\u001b[0m         index\u001b[38;5;241m=\u001b[39mindex,\n\u001b[0;32m   5585\u001b[0m         columns\u001b[38;5;241m=\u001b[39mcolumns,\n\u001b[0;32m   5586\u001b[0m         level\u001b[38;5;241m=\u001b[39mlevel,\n\u001b[0;32m   5587\u001b[0m         inplace\u001b[38;5;241m=\u001b[39minplace,\n\u001b[0;32m   5588\u001b[0m         errors\u001b[38;5;241m=\u001b[39merrors,\n\u001b[0;32m   5589\u001b[0m     )\n",
      "File \u001b[1;32m~\\anacond\\Lib\\site-packages\\pandas\\core\\generic.py:4788\u001b[0m, in \u001b[0;36mNDFrame.drop\u001b[1;34m(self, labels, axis, index, columns, level, inplace, errors)\u001b[0m\n\u001b[0;32m   4786\u001b[0m \u001b[38;5;28;01mfor\u001b[39;00m axis, labels \u001b[38;5;129;01min\u001b[39;00m axes\u001b[38;5;241m.\u001b[39mitems():\n\u001b[0;32m   4787\u001b[0m     \u001b[38;5;28;01mif\u001b[39;00m labels \u001b[38;5;129;01mis\u001b[39;00m \u001b[38;5;129;01mnot\u001b[39;00m \u001b[38;5;28;01mNone\u001b[39;00m:\n\u001b[1;32m-> 4788\u001b[0m         obj \u001b[38;5;241m=\u001b[39m obj\u001b[38;5;241m.\u001b[39m_drop_axis(labels, axis, level\u001b[38;5;241m=\u001b[39mlevel, errors\u001b[38;5;241m=\u001b[39merrors)\n\u001b[0;32m   4790\u001b[0m \u001b[38;5;28;01mif\u001b[39;00m inplace:\n\u001b[0;32m   4791\u001b[0m     \u001b[38;5;28mself\u001b[39m\u001b[38;5;241m.\u001b[39m_update_inplace(obj)\n",
      "File \u001b[1;32m~\\anacond\\Lib\\site-packages\\pandas\\core\\generic.py:4830\u001b[0m, in \u001b[0;36mNDFrame._drop_axis\u001b[1;34m(self, labels, axis, level, errors, only_slice)\u001b[0m\n\u001b[0;32m   4828\u001b[0m         new_axis \u001b[38;5;241m=\u001b[39m axis\u001b[38;5;241m.\u001b[39mdrop(labels, level\u001b[38;5;241m=\u001b[39mlevel, errors\u001b[38;5;241m=\u001b[39merrors)\n\u001b[0;32m   4829\u001b[0m     \u001b[38;5;28;01melse\u001b[39;00m:\n\u001b[1;32m-> 4830\u001b[0m         new_axis \u001b[38;5;241m=\u001b[39m axis\u001b[38;5;241m.\u001b[39mdrop(labels, errors\u001b[38;5;241m=\u001b[39merrors)\n\u001b[0;32m   4831\u001b[0m     indexer \u001b[38;5;241m=\u001b[39m axis\u001b[38;5;241m.\u001b[39mget_indexer(new_axis)\n\u001b[0;32m   4833\u001b[0m \u001b[38;5;66;03m# Case for non-unique axis\u001b[39;00m\n\u001b[0;32m   4834\u001b[0m \u001b[38;5;28;01melse\u001b[39;00m:\n",
      "File \u001b[1;32m~\\anacond\\Lib\\site-packages\\pandas\\core\\indexes\\base.py:7070\u001b[0m, in \u001b[0;36mIndex.drop\u001b[1;34m(self, labels, errors)\u001b[0m\n\u001b[0;32m   7068\u001b[0m \u001b[38;5;28;01mif\u001b[39;00m mask\u001b[38;5;241m.\u001b[39many():\n\u001b[0;32m   7069\u001b[0m     \u001b[38;5;28;01mif\u001b[39;00m errors \u001b[38;5;241m!=\u001b[39m \u001b[38;5;124m\"\u001b[39m\u001b[38;5;124mignore\u001b[39m\u001b[38;5;124m\"\u001b[39m:\n\u001b[1;32m-> 7070\u001b[0m         \u001b[38;5;28;01mraise\u001b[39;00m \u001b[38;5;167;01mKeyError\u001b[39;00m(\u001b[38;5;124mf\u001b[39m\u001b[38;5;124m\"\u001b[39m\u001b[38;5;132;01m{\u001b[39;00mlabels[mask]\u001b[38;5;241m.\u001b[39mtolist()\u001b[38;5;132;01m}\u001b[39;00m\u001b[38;5;124m not found in axis\u001b[39m\u001b[38;5;124m\"\u001b[39m)\n\u001b[0;32m   7071\u001b[0m     indexer \u001b[38;5;241m=\u001b[39m indexer[\u001b[38;5;241m~\u001b[39mmask]\n\u001b[0;32m   7072\u001b[0m \u001b[38;5;28;01mreturn\u001b[39;00m \u001b[38;5;28mself\u001b[39m\u001b[38;5;241m.\u001b[39mdelete(indexer)\n",
      "\u001b[1;31mKeyError\u001b[0m: \"['Over18', 'SalarySlab', 'EmployeeCount', 'StandardHours', 'EmployeeNumber'] not found in axis\""
     ]
    }
   ],
   "source": [
    "HR_Analytics.drop(columns=['Over18', 'SalarySlab', 'EmployeeCount', 'StandardHours', 'EmployeeNumber'], inplace= True)"
   ]
  },
  {
   "cell_type": "code",
   "execution_count": null,
   "id": "8e4a35f9-f0c0-4989-a4fa-b3aa9ab72d1c",
   "metadata": {},
   "outputs": [],
   "source": [
    "HR_Analytics.columns"
   ]
  },
  {
   "cell_type": "code",
   "execution_count": null,
   "id": "0f3d977b-2b5b-4baa-b1dd-685dd58c9966",
   "metadata": {},
   "outputs": [],
   "source": [
    "HR_Analytics.shape"
   ]
  },
  {
   "cell_type": "code",
   "execution_count": null,
   "id": "2f822df2-bec3-424d-9f34-40ed28de3911",
   "metadata": {},
   "outputs": [],
   "source": [
    "HR_Analytics.columns"
   ]
  },
  {
   "cell_type": "code",
   "execution_count": null,
   "id": "c36d686c-3182-4e22-a7e8-127a0c98be83",
   "metadata": {},
   "outputs": [],
   "source": [
    "HR_Analytics['Education'].unique()"
   ]
  },
  {
   "cell_type": "code",
   "execution_count": null,
   "id": "53fd2ccc-a4de-48fb-a065-2c5914e485cb",
   "metadata": {},
   "outputs": [],
   "source": [
    "education_map = {\n",
    "    1: 'Below College',\n",
    "    2: 'College',\n",
    "    3: 'Bachelor',\n",
    "    4: 'Master',\n",
    "    5: 'Doctor'\n",
    "}"
   ]
  },
  {
   "cell_type": "code",
   "execution_count": null,
   "id": "a229fb0c-d41b-4fe1-9546-5057bad8b669",
   "metadata": {},
   "outputs": [],
   "source": [
    "HR_Analytics['Education_Level'] = HR_Analytics['Education'].map(education_map) "
   ]
  },
  {
   "cell_type": "code",
   "execution_count": null,
   "id": "7881731d-1111-43ec-b15b-402905a7796d",
   "metadata": {},
   "outputs": [],
   "source": [
    "HR_Analytics['Education_Level'].unique()"
   ]
  },
  {
   "cell_type": "code",
   "execution_count": null,
   "id": "ef7eeb48-263c-4c64-9e22-85bfeb866eee",
   "metadata": {},
   "outputs": [],
   "source": [
    "HR_Analytics.rename(columns={'EnvironmentSatisfaction': 'EnvSatisfaction'}, inplace=True)\n"
   ]
  },
  {
   "cell_type": "code",
   "execution_count": null,
   "id": "b5a75818-ff37-4c3f-9767-c1556a6e0fa1",
   "metadata": {},
   "outputs": [],
   "source": [
    "HR_Analytics['JobLevel'].unique()"
   ]
  },
  {
   "cell_type": "code",
   "execution_count": null,
   "id": "2b0cf2ac-f8b5-4f87-9b11-74ea5fd25013",
   "metadata": {},
   "outputs": [],
   "source": [
    "job_level_map = {\n",
    "    1: 'Junior',\n",
    "    2: 'Intermediate',\n",
    "    3: 'Senior',\n",
    "    4: 'Manager',\n",
    "    5: 'Senior Executive'\n",
    "}"
   ]
  },
  {
   "cell_type": "code",
   "execution_count": null,
   "id": "f316c39d-a214-439d-8aea-a1911934f94a",
   "metadata": {},
   "outputs": [],
   "source": [
    "HR_Analytics['JobLevelLabel'] = HR_Analytics['JobLevel'].map(job_level_map)"
   ]
  },
  {
   "cell_type": "code",
   "execution_count": null,
   "id": "b8f36fb3-9856-4df1-9490-8e6e73fa8934",
   "metadata": {},
   "outputs": [],
   "source": [
    "HR_Analytics['JobLevelLabel'].unique()"
   ]
  },
  {
   "cell_type": "code",
   "execution_count": null,
   "id": "7e6d9911-03e5-4644-b3d3-cb90aec5a811",
   "metadata": {},
   "outputs": [],
   "source": [
    "HR_Analytics['JobInvolvement'].unique()"
   ]
  },
  {
   "cell_type": "code",
   "execution_count": null,
   "id": "b5a825f3-4b54-4c36-b674-60ba5db0eeb6",
   "metadata": {},
   "outputs": [],
   "source": [
    "job_involve_map = {\n",
    "    1: 'Low',\n",
    "    2: 'Medium',\n",
    "    3: 'High',\n",
    "    4: 'Very High'\n",
    "}"
   ]
  },
  {
   "cell_type": "code",
   "execution_count": null,
   "id": "fb984e22-72e7-4e54-b23c-861a38ec0175",
   "metadata": {},
   "outputs": [],
   "source": [
    "HR_Analytics['JobInvolveLabel'] = HR_Analytics['JobInvolvement'].map(job_level_map)"
   ]
  },
  {
   "cell_type": "code",
   "execution_count": null,
   "id": "4e3dd566-9be7-429c-82de-51912112666f",
   "metadata": {},
   "outputs": [],
   "source": [
    "HR_Analytics['JobInvolveLabel'].unique()"
   ]
  },
  {
   "cell_type": "code",
   "execution_count": null,
   "id": "421d8128-3662-45b9-9fe1-01ec8f11f150",
   "metadata": {},
   "outputs": [],
   "source": [
    "HR_Analytics['JobSatisfaction'].unique()"
   ]
  },
  {
   "cell_type": "code",
   "execution_count": null,
   "id": "6bb0c948-0b05-4eb5-ad59-e771e2ad235d",
   "metadata": {},
   "outputs": [],
   "source": [
    "#job_satisfaction_map = {\n",
    "    #1: 'Poor',\n",
    "    #2: 'Fair',\n",
    "    #3: 'Good',\n",
    "    #4: 'Very Good'\n",
    "#}"
   ]
  },
  {
   "cell_type": "code",
   "execution_count": null,
   "id": "03c28ef5-0235-4cce-9c4b-2fd7a4d5712b",
   "metadata": {},
   "outputs": [],
   "source": [
    "#HR_Analytics.rename(columns={'JobSatisfaction': 'JobSatisfy_Level'}, inplace=True)\n",
    "#HR_Analytics['JobSatisfy_Label'] = HR_Analytics['JobSatisfy_Level'].map(job_satisfaction_map)"
   ]
  },
  {
   "cell_type": "code",
   "execution_count": null,
   "id": "12f23489-5d9b-49fa-8f68-cb2aa0653f35",
   "metadata": {},
   "outputs": [],
   "source": [
    "#HR_Analytics['JobSatisfy_Label'].unique()"
   ]
  },
  {
   "cell_type": "code",
   "execution_count": null,
   "id": "f3fa00e3-250e-4a08-8255-d9403bcfa416",
   "metadata": {},
   "outputs": [],
   "source": [
    "#HR_Analytics['PerformanceRating'].unique()"
   ]
  },
  {
   "cell_type": "code",
   "execution_count": null,
   "id": "34a82d17-e8d5-4937-a205-a95bf4dd2af8",
   "metadata": {},
   "outputs": [],
   "source": [
    "#performance_score_map = {\n",
    "    #3: 'Good',\n",
    "    #4: 'Excellent'\n",
    "#}"
   ]
  },
  {
   "cell_type": "code",
   "execution_count": null,
   "id": "89aaa8b8-ae26-4988-82fe-213b6c418b8d",
   "metadata": {},
   "outputs": [],
   "source": [
    "#HR_Analytics.rename(columns={'PerformanceRating': 'PerformanceScore'}, inplace=True)"
   ]
  },
  {
   "cell_type": "code",
   "execution_count": null,
   "id": "717c6c27-00ab-49be-ae06-c9f6c9c4b4f7",
   "metadata": {},
   "outputs": [],
   "source": [
    "#HR_Analytics['PerformanceLabel'] = HR_Analytics['PerformanceScore'].map(performance_score_map)"
   ]
  },
  {
   "cell_type": "code",
   "execution_count": null,
   "id": "08d71d04-358a-4946-b307-b5e9231bff4e",
   "metadata": {},
   "outputs": [],
   "source": [
    "#HR_Analytics['PerformanceLabel'].unique()"
   ]
  },
  {
   "cell_type": "code",
   "execution_count": null,
   "id": "07d014fc-fd13-45f5-8d19-1f9eab16faa5",
   "metadata": {},
   "outputs": [],
   "source": [
    "HR_Analytics['StockOptionLevel'].unique()"
   ]
  },
  {
   "cell_type": "code",
   "execution_count": null,
   "id": "89ab91d4-9c55-40f3-9d33-25e51eb4b4c1",
   "metadata": {},
   "outputs": [],
   "source": [
    "stock_option_map = {\n",
    "    0: 'No Stock Options',\n",
    "    1: 'Low Stock Options',\n",
    "    2: 'Medium Stock Options',\n",
    "    3: 'High Stock Options'\n",
    "}\n",
    "\n",
    "HR_Analytics['StockOptionLevel_Description'] = HR_Analytics['StockOptionLevel'].map(stock_option_map)"
   ]
  },
  {
   "cell_type": "code",
   "execution_count": null,
   "id": "94ef2af5-34aa-4f7e-9fd2-2c1e1e761567",
   "metadata": {},
   "outputs": [],
   "source": [
    "HR_Analytics['StockOptionLevel_Description'].unique()"
   ]
  },
  {
   "cell_type": "code",
   "execution_count": null,
   "id": "4bf76f0f-4f16-43c8-820a-e7ce28da9a34",
   "metadata": {},
   "outputs": [],
   "source": [
    "#HR_Analytics['TrainingTimesLastYear'].unique()"
   ]
  },
  {
   "cell_type": "code",
   "execution_count": null,
   "id": "c05797f2-bb16-486d-9d7f-009f54cf3180",
   "metadata": {},
   "outputs": [],
   "source": [
    "#training_map = {\n",
    " #0: 'No Training',\n",
    "  #  1: 'Few',\n",
    "   # 2: 'Moderate',\n",
    "    #3: 'Good',\n",
    "    #4: 'Very Good',\n",
    "    #5: 'Excellent',\n",
    "    #6: 'Exceptional'\n",
    "#}\n",
    "#HR_Analytics['TrainingsLastYear_Label'] = HR_Analytics['TrainingTimesLastYear'].map(training_map)"
   ]
  },
  {
   "cell_type": "code",
   "execution_count": null,
   "id": "67059aa4-46b6-427b-89e4-6e2243d3e014",
   "metadata": {},
   "outputs": [],
   "source": [
    "#HR_Analytics['TrainingsLastYear_Label'].unique()"
   ]
  },
  {
   "cell_type": "code",
   "execution_count": null,
   "id": "a75d99c2-8545-4902-906c-c848fb77c883",
   "metadata": {},
   "outputs": [],
   "source": [
    "HR_Analytics['RelationshipSatisfaction'].unique()"
   ]
  },
  {
   "cell_type": "code",
   "execution_count": null,
   "id": "6c8bc791-856d-4b4e-9e52-bd81a0e76229",
   "metadata": {},
   "outputs": [],
   "source": [
    "relation_map = {\n",
    "    1: 'Low',\n",
    "    2: 'Medium',\n",
    "    3: 'High',\n",
    "    4: 'Very High'\n",
    "}"
   ]
  },
  {
   "cell_type": "code",
   "execution_count": null,
   "id": "235f7271-5759-4690-9d1a-57c6efd5b566",
   "metadata": {},
   "outputs": [],
   "source": [
    "HR_Analytics['RelationshipSatisfaction_Label'] = HR_Analytics['RelationshipSatisfaction'].map(training_map)"
   ]
  },
  {
   "cell_type": "code",
   "execution_count": null,
   "id": "dab6f11c-d2e4-4050-83ed-26a747cdc54f",
   "metadata": {},
   "outputs": [],
   "source": [
    "HR_Analytics['RelationshipSatisfaction_Label'].unique()"
   ]
  },
  {
   "cell_type": "code",
   "execution_count": null,
   "id": "767753b5-da47-41bd-916d-ae7c490ae14c",
   "metadata": {},
   "outputs": [],
   "source": [
    "HR_Analytics['WorkLifeBalance'].unique()"
   ]
  },
  {
   "cell_type": "code",
   "execution_count": null,
   "id": "50b0ee40-1cd7-4faf-b667-3ea40bbb9f98",
   "metadata": {},
   "outputs": [],
   "source": [
    "work_life_map = {\n",
    "    1: 'Poor',\n",
    "    2: 'Fair',\n",
    "    3: 'Good',\n",
    "    4: 'Excellent'\n",
    "}"
   ]
  },
  {
   "cell_type": "code",
   "execution_count": null,
   "id": "63863645-2dfa-4f7c-bb7c-7cdf824afde5",
   "metadata": {},
   "outputs": [],
   "source": [
    "HR_Analytics['WorkLifeLabel'] = HR_Analytics['WorkLifeBalance'].map(work_life_map)"
   ]
  },
  {
   "cell_type": "code",
   "execution_count": null,
   "id": "dabc2009-0b71-4e6c-81b9-7dd5196fe7ea",
   "metadata": {},
   "outputs": [],
   "source": [
    "HR_Analytics['WorkLifeLabel'].unique()"
   ]
  },
  {
   "cell_type": "code",
   "execution_count": null,
   "id": "69208bca-6295-46a6-92c5-9301e7429acd",
   "metadata": {},
   "outputs": [],
   "source": [
    "HR_Analytics.columns"
   ]
  },
  {
   "cell_type": "code",
   "execution_count": null,
   "id": "d22efbed-d22c-47db-ba3c-123afa25c37d",
   "metadata": {},
   "outputs": [],
   "source": [
    "HR_Analytics.to_csv(\"cleaned_HR.csv\", index=False)"
   ]
  },
  {
   "cell_type": "code",
   "execution_count": null,
   "id": "9b257bdd-0421-42e5-b4a5-90e6a84ac990",
   "metadata": {},
   "outputs": [],
   "source": [
    "#HR_Analytics"
   ]
  },
  {
   "cell_type": "code",
   "execution_count": null,
   "id": "3b1cd969-efc6-4242-99db-6fc8e488cab7",
   "metadata": {},
   "outputs": [],
   "source": [
    "#HR_Analytics.drop(\n",
    " #   ['Education', 'JobLevel', 'JobInvolvement', 'StockOptionLevel',\n",
    "  #3    'RelationshipSatisfaction', 'WorkLifeBalance'],\n",
    "    #axis=1,\n",
    "    #errors='ignore',\n",
    "   # inplace=True\n",
    "#)\n"
   ]
  },
  {
   "cell_type": "code",
   "execution_count": null,
   "id": "dab86ab8-7cca-4c0b-b5c9-336d5a9f3c6c",
   "metadata": {},
   "outputs": [],
   "source": [
    "HR_Analytics.columns"
   ]
  },
  {
   "cell_type": "code",
   "execution_count": null,
   "id": "fccea493-99d9-4e6b-b217-a1ed90f80163",
   "metadata": {},
   "outputs": [],
   "source": [
    "HR_Analytics.to_csv(\"cleaned_HR.csv\", index=False)"
   ]
  },
  {
   "cell_type": "code",
   "execution_count": null,
   "id": "e52c7fa3-b79d-4d1d-a21a-39b48320bc4c",
   "metadata": {},
   "outputs": [],
   "source": [
    "attrition_rate = (HR_Analytics['Attrition'].value_counts().get('Yes', 0) / len(HR_Analytics)) * 100\n",
    "print(f\"Attrition Rate: {attrition_rate:.2f}%\")\n"
   ]
  },
  {
   "cell_type": "code",
   "execution_count": null,
   "id": "64f89282-dbbd-44e0-bd3e-949a67f96514",
   "metadata": {},
   "outputs": [],
   "source": [
    "avg_tenure = HR_Analytics['YearsAtCompany'].mean()\n",
    "print(f\"Average Tenure: {avg_tenure:.2f} years\")\n"
   ]
  },
  {
   "cell_type": "code",
   "execution_count": null,
   "id": "2f94a66f-093d-4497-859a-0fb8fa10d4ac",
   "metadata": {},
   "outputs": [],
   "source": [
    "avg_satisfaction = HR_Analytics['JobSatisfaction'].mean()\n",
    "print(f\"Average Job Satisfaction Score: {avg_satisfaction:.2f}\")\n"
   ]
  },
  {
   "cell_type": "code",
   "execution_count": null,
   "id": "f87c1254-468c-4be7-8688-d856385ebcce",
   "metadata": {},
   "outputs": [],
   "source": [
    "performance_dist = HR_Analytics['PerformanceRating'].value_counts(normalize=True) * 100\n",
    "print(performance_dist)\n"
   ]
  },
  {
   "cell_type": "code",
   "execution_count": null,
   "id": "561bba2f-b271-4ad9-9943-42c4edfc75dc",
   "metadata": {},
   "outputs": [],
   "source": [
    "#training_avg = HR_Analytics['TrainingLastYear_Label'].mean()\n",
    "#print(f\"Average Trainings Per Employee: {training_avg:.2f} times/year\")"
   ]
  },
  {
   "cell_type": "code",
   "execution_count": null,
   "id": "a1a4934f-83e3-45e5-bf89-22c4c2808fd3",
   "metadata": {},
   "outputs": [],
   "source": [
    "promoted_count = (HR_Analytics['YearsSinceLastPromotion'] == 0).sum()\n",
    "promotion_rate = (promoted_count / len(HR_Analytics)) * 100\n",
    "print(f\"Promotion Rate: {promotion_rate:.2f}%\")\n"
   ]
  },
  {
   "cell_type": "code",
   "execution_count": 15,
   "id": "9be31d8c-e42c-4c37-9bdd-604533e1944f",
   "metadata": {},
   "outputs": [
    {
     "data": {
      "text/plain": [
       "Index(['EmpID', 'Age', 'AgeGroup', 'Attrition', 'BusinessTravel', 'DailyRate',\n",
       "       'Department', 'DistanceFromHome', 'Education', 'EducationField',\n",
       "       'EnvSatisfaction', 'Gender', 'HourlyRate', 'JobInvolvement', 'JobLevel',\n",
       "       'JobRole', 'JobSatisfaction', 'MaritalStatus', 'MonthlyIncome',\n",
       "       'MonthlyRate', 'NumCompaniesWorked', 'OverTime', 'PercentSalaryHike',\n",
       "       'PerformanceRating', 'RelationshipSatisfaction', 'StockOptionLevel',\n",
       "       'TotalWorkingYears', 'TrainingTimesLastYear', 'WorkLifeBalance',\n",
       "       'YearsAtCompany', 'YearsInCurrentRole', 'YearsSinceLastPromotion',\n",
       "       'YearsWithCurrManager', 'Education_Level', 'JobLevelLabel',\n",
       "       'JobInvolveLabel', 'StockOptionLevel_Description',\n",
       "       'RelationshipSatisfaction_Label', 'WorkLifeLabel'],\n",
       "      dtype='object')"
      ]
     },
     "execution_count": 15,
     "metadata": {},
     "output_type": "execute_result"
    }
   ],
   "source": [
    "HR_Analytics.columns"
   ]
  },
  {
   "cell_type": "code",
   "execution_count": 16,
   "id": "31ae1274-8658-43e8-b69e-fabfa1ba8a61",
   "metadata": {},
   "outputs": [],
   "source": [
    "HR_Analytics.to_csv(\"Cleaned1.csv\", index=False)"
   ]
  },
  {
   "cell_type": "code",
   "execution_count": 17,
   "id": "3c6b830d-4d94-45f2-b442-8213dccce94b",
   "metadata": {},
   "outputs": [
    {
     "data": {
      "text/html": [
       "<div>\n",
       "<style scoped>\n",
       "    .dataframe tbody tr th:only-of-type {\n",
       "        vertical-align: middle;\n",
       "    }\n",
       "\n",
       "    .dataframe tbody tr th {\n",
       "        vertical-align: top;\n",
       "    }\n",
       "\n",
       "    .dataframe thead th {\n",
       "        text-align: right;\n",
       "    }\n",
       "</style>\n",
       "<table border=\"1\" class=\"dataframe\">\n",
       "  <thead>\n",
       "    <tr style=\"text-align: right;\">\n",
       "      <th></th>\n",
       "      <th>EmpID</th>\n",
       "      <th>Age</th>\n",
       "      <th>AgeGroup</th>\n",
       "      <th>Attrition</th>\n",
       "      <th>BusinessTravel</th>\n",
       "      <th>DailyRate</th>\n",
       "      <th>Department</th>\n",
       "      <th>DistanceFromHome</th>\n",
       "      <th>Education</th>\n",
       "      <th>EducationField</th>\n",
       "      <th>...</th>\n",
       "      <th>YearsAtCompany</th>\n",
       "      <th>YearsInCurrentRole</th>\n",
       "      <th>YearsSinceLastPromotion</th>\n",
       "      <th>YearsWithCurrManager</th>\n",
       "      <th>Education_Level</th>\n",
       "      <th>JobLevelLabel</th>\n",
       "      <th>JobInvolveLabel</th>\n",
       "      <th>StockOptionLevel_Description</th>\n",
       "      <th>RelationshipSatisfaction_Label</th>\n",
       "      <th>WorkLifeLabel</th>\n",
       "    </tr>\n",
       "  </thead>\n",
       "  <tbody>\n",
       "    <tr>\n",
       "      <th>0</th>\n",
       "      <td>RM297</td>\n",
       "      <td>18</td>\n",
       "      <td>18-25</td>\n",
       "      <td>Yes</td>\n",
       "      <td>Travel_Rarely</td>\n",
       "      <td>230</td>\n",
       "      <td>Research &amp; Development</td>\n",
       "      <td>3</td>\n",
       "      <td>3</td>\n",
       "      <td>Life Sciences</td>\n",
       "      <td>...</td>\n",
       "      <td>0</td>\n",
       "      <td>0</td>\n",
       "      <td>0</td>\n",
       "      <td>0.0</td>\n",
       "      <td>Bachelor</td>\n",
       "      <td>Junior</td>\n",
       "      <td>Senior</td>\n",
       "      <td>No Stock Options</td>\n",
       "      <td>Good</td>\n",
       "      <td>Good</td>\n",
       "    </tr>\n",
       "    <tr>\n",
       "      <th>1</th>\n",
       "      <td>RM302</td>\n",
       "      <td>18</td>\n",
       "      <td>18-25</td>\n",
       "      <td>No</td>\n",
       "      <td>Travel_Rarely</td>\n",
       "      <td>812</td>\n",
       "      <td>Sales</td>\n",
       "      <td>10</td>\n",
       "      <td>3</td>\n",
       "      <td>Medical</td>\n",
       "      <td>...</td>\n",
       "      <td>0</td>\n",
       "      <td>0</td>\n",
       "      <td>0</td>\n",
       "      <td>0.0</td>\n",
       "      <td>Bachelor</td>\n",
       "      <td>Junior</td>\n",
       "      <td>Intermediate</td>\n",
       "      <td>No Stock Options</td>\n",
       "      <td>Few</td>\n",
       "      <td>Good</td>\n",
       "    </tr>\n",
       "    <tr>\n",
       "      <th>2</th>\n",
       "      <td>RM458</td>\n",
       "      <td>18</td>\n",
       "      <td>18-25</td>\n",
       "      <td>Yes</td>\n",
       "      <td>Travel_Frequently</td>\n",
       "      <td>1306</td>\n",
       "      <td>Sales</td>\n",
       "      <td>5</td>\n",
       "      <td>3</td>\n",
       "      <td>Marketing</td>\n",
       "      <td>...</td>\n",
       "      <td>0</td>\n",
       "      <td>0</td>\n",
       "      <td>0</td>\n",
       "      <td>0.0</td>\n",
       "      <td>Bachelor</td>\n",
       "      <td>Junior</td>\n",
       "      <td>Senior</td>\n",
       "      <td>No Stock Options</td>\n",
       "      <td>Very Good</td>\n",
       "      <td>Good</td>\n",
       "    </tr>\n",
       "    <tr>\n",
       "      <th>3</th>\n",
       "      <td>RM728</td>\n",
       "      <td>18</td>\n",
       "      <td>18-25</td>\n",
       "      <td>No</td>\n",
       "      <td>Non-Travel</td>\n",
       "      <td>287</td>\n",
       "      <td>Research &amp; Development</td>\n",
       "      <td>5</td>\n",
       "      <td>2</td>\n",
       "      <td>Life Sciences</td>\n",
       "      <td>...</td>\n",
       "      <td>0</td>\n",
       "      <td>0</td>\n",
       "      <td>0</td>\n",
       "      <td>0.0</td>\n",
       "      <td>College</td>\n",
       "      <td>Junior</td>\n",
       "      <td>Senior</td>\n",
       "      <td>No Stock Options</td>\n",
       "      <td>Very Good</td>\n",
       "      <td>Good</td>\n",
       "    </tr>\n",
       "    <tr>\n",
       "      <th>4</th>\n",
       "      <td>RM829</td>\n",
       "      <td>18</td>\n",
       "      <td>18-25</td>\n",
       "      <td>Yes</td>\n",
       "      <td>Non-Travel</td>\n",
       "      <td>247</td>\n",
       "      <td>Research &amp; Development</td>\n",
       "      <td>8</td>\n",
       "      <td>1</td>\n",
       "      <td>Medical</td>\n",
       "      <td>...</td>\n",
       "      <td>0</td>\n",
       "      <td>0</td>\n",
       "      <td>0</td>\n",
       "      <td>0.0</td>\n",
       "      <td>Below College</td>\n",
       "      <td>Junior</td>\n",
       "      <td>Senior</td>\n",
       "      <td>No Stock Options</td>\n",
       "      <td>Very Good</td>\n",
       "      <td>Good</td>\n",
       "    </tr>\n",
       "    <tr>\n",
       "      <th>...</th>\n",
       "      <td>...</td>\n",
       "      <td>...</td>\n",
       "      <td>...</td>\n",
       "      <td>...</td>\n",
       "      <td>...</td>\n",
       "      <td>...</td>\n",
       "      <td>...</td>\n",
       "      <td>...</td>\n",
       "      <td>...</td>\n",
       "      <td>...</td>\n",
       "      <td>...</td>\n",
       "      <td>...</td>\n",
       "      <td>...</td>\n",
       "      <td>...</td>\n",
       "      <td>...</td>\n",
       "      <td>...</td>\n",
       "      <td>...</td>\n",
       "      <td>...</td>\n",
       "      <td>...</td>\n",
       "      <td>...</td>\n",
       "      <td>...</td>\n",
       "    </tr>\n",
       "    <tr>\n",
       "      <th>1468</th>\n",
       "      <td>RM412</td>\n",
       "      <td>60</td>\n",
       "      <td>55+</td>\n",
       "      <td>No</td>\n",
       "      <td>Travel_Rarely</td>\n",
       "      <td>422</td>\n",
       "      <td>Research &amp; Development</td>\n",
       "      <td>7</td>\n",
       "      <td>3</td>\n",
       "      <td>Life Sciences</td>\n",
       "      <td>...</td>\n",
       "      <td>29</td>\n",
       "      <td>8</td>\n",
       "      <td>11</td>\n",
       "      <td>10.0</td>\n",
       "      <td>Bachelor</td>\n",
       "      <td>Senior Executive</td>\n",
       "      <td>Senior</td>\n",
       "      <td>No Stock Options</td>\n",
       "      <td>Very Good</td>\n",
       "      <td>Poor</td>\n",
       "    </tr>\n",
       "    <tr>\n",
       "      <th>1469</th>\n",
       "      <td>RM428</td>\n",
       "      <td>60</td>\n",
       "      <td>55+</td>\n",
       "      <td>No</td>\n",
       "      <td>Travel_Frequently</td>\n",
       "      <td>1499</td>\n",
       "      <td>Sales</td>\n",
       "      <td>28</td>\n",
       "      <td>3</td>\n",
       "      <td>Marketing</td>\n",
       "      <td>...</td>\n",
       "      <td>18</td>\n",
       "      <td>13</td>\n",
       "      <td>13</td>\n",
       "      <td>11.0</td>\n",
       "      <td>Bachelor</td>\n",
       "      <td>Senior</td>\n",
       "      <td>Intermediate</td>\n",
       "      <td>No Stock Options</td>\n",
       "      <td>Very Good</td>\n",
       "      <td>Excellent</td>\n",
       "    </tr>\n",
       "    <tr>\n",
       "      <th>1470</th>\n",
       "      <td>RM537</td>\n",
       "      <td>60</td>\n",
       "      <td>55+</td>\n",
       "      <td>No</td>\n",
       "      <td>Travel_Rarely</td>\n",
       "      <td>1179</td>\n",
       "      <td>Sales</td>\n",
       "      <td>16</td>\n",
       "      <td>4</td>\n",
       "      <td>Marketing</td>\n",
       "      <td>...</td>\n",
       "      <td>2</td>\n",
       "      <td>2</td>\n",
       "      <td>2</td>\n",
       "      <td>2.0</td>\n",
       "      <td>Master</td>\n",
       "      <td>Intermediate</td>\n",
       "      <td>Senior</td>\n",
       "      <td>No Stock Options</td>\n",
       "      <td>Very Good</td>\n",
       "      <td>Good</td>\n",
       "    </tr>\n",
       "    <tr>\n",
       "      <th>1471</th>\n",
       "      <td>RM880</td>\n",
       "      <td>60</td>\n",
       "      <td>55+</td>\n",
       "      <td>No</td>\n",
       "      <td>Travel_Rarely</td>\n",
       "      <td>696</td>\n",
       "      <td>Sales</td>\n",
       "      <td>7</td>\n",
       "      <td>4</td>\n",
       "      <td>Marketing</td>\n",
       "      <td>...</td>\n",
       "      <td>11</td>\n",
       "      <td>7</td>\n",
       "      <td>1</td>\n",
       "      <td>9.0</td>\n",
       "      <td>Master</td>\n",
       "      <td>Intermediate</td>\n",
       "      <td>Manager</td>\n",
       "      <td>Low Stock Options</td>\n",
       "      <td>Moderate</td>\n",
       "      <td>Good</td>\n",
       "    </tr>\n",
       "    <tr>\n",
       "      <th>1472</th>\n",
       "      <td>RM1210</td>\n",
       "      <td>60</td>\n",
       "      <td>55+</td>\n",
       "      <td>No</td>\n",
       "      <td>Travel_Rarely</td>\n",
       "      <td>370</td>\n",
       "      <td>Research &amp; Development</td>\n",
       "      <td>1</td>\n",
       "      <td>4</td>\n",
       "      <td>Medical</td>\n",
       "      <td>...</td>\n",
       "      <td>1</td>\n",
       "      <td>0</td>\n",
       "      <td>0</td>\n",
       "      <td>0.0</td>\n",
       "      <td>Master</td>\n",
       "      <td>Senior</td>\n",
       "      <td>Junior</td>\n",
       "      <td>Low Stock Options</td>\n",
       "      <td>Good</td>\n",
       "      <td>Excellent</td>\n",
       "    </tr>\n",
       "  </tbody>\n",
       "</table>\n",
       "<p>1473 rows × 39 columns</p>\n",
       "</div>"
      ],
      "text/plain": [
       "       EmpID  Age AgeGroup Attrition     BusinessTravel  DailyRate  \\\n",
       "0      RM297   18    18-25       Yes      Travel_Rarely        230   \n",
       "1      RM302   18    18-25        No      Travel_Rarely        812   \n",
       "2      RM458   18    18-25       Yes  Travel_Frequently       1306   \n",
       "3      RM728   18    18-25        No         Non-Travel        287   \n",
       "4      RM829   18    18-25       Yes         Non-Travel        247   \n",
       "...      ...  ...      ...       ...                ...        ...   \n",
       "1468   RM412   60      55+        No      Travel_Rarely        422   \n",
       "1469   RM428   60      55+        No  Travel_Frequently       1499   \n",
       "1470   RM537   60      55+        No      Travel_Rarely       1179   \n",
       "1471   RM880   60      55+        No      Travel_Rarely        696   \n",
       "1472  RM1210   60      55+        No      Travel_Rarely        370   \n",
       "\n",
       "                  Department  DistanceFromHome  Education EducationField  ...  \\\n",
       "0     Research & Development                 3          3  Life Sciences  ...   \n",
       "1                      Sales                10          3        Medical  ...   \n",
       "2                      Sales                 5          3      Marketing  ...   \n",
       "3     Research & Development                 5          2  Life Sciences  ...   \n",
       "4     Research & Development                 8          1        Medical  ...   \n",
       "...                      ...               ...        ...            ...  ...   \n",
       "1468  Research & Development                 7          3  Life Sciences  ...   \n",
       "1469                   Sales                28          3      Marketing  ...   \n",
       "1470                   Sales                16          4      Marketing  ...   \n",
       "1471                   Sales                 7          4      Marketing  ...   \n",
       "1472  Research & Development                 1          4        Medical  ...   \n",
       "\n",
       "      YearsAtCompany YearsInCurrentRole  YearsSinceLastPromotion  \\\n",
       "0                  0                  0                        0   \n",
       "1                  0                  0                        0   \n",
       "2                  0                  0                        0   \n",
       "3                  0                  0                        0   \n",
       "4                  0                  0                        0   \n",
       "...              ...                ...                      ...   \n",
       "1468              29                  8                       11   \n",
       "1469              18                 13                       13   \n",
       "1470               2                  2                        2   \n",
       "1471              11                  7                        1   \n",
       "1472               1                  0                        0   \n",
       "\n",
       "      YearsWithCurrManager  Education_Level     JobLevelLabel  \\\n",
       "0                      0.0         Bachelor            Junior   \n",
       "1                      0.0         Bachelor            Junior   \n",
       "2                      0.0         Bachelor            Junior   \n",
       "3                      0.0          College            Junior   \n",
       "4                      0.0    Below College            Junior   \n",
       "...                    ...              ...               ...   \n",
       "1468                  10.0         Bachelor  Senior Executive   \n",
       "1469                  11.0         Bachelor            Senior   \n",
       "1470                   2.0           Master      Intermediate   \n",
       "1471                   9.0           Master      Intermediate   \n",
       "1472                   0.0           Master            Senior   \n",
       "\n",
       "      JobInvolveLabel StockOptionLevel_Description  \\\n",
       "0              Senior             No Stock Options   \n",
       "1        Intermediate             No Stock Options   \n",
       "2              Senior             No Stock Options   \n",
       "3              Senior             No Stock Options   \n",
       "4              Senior             No Stock Options   \n",
       "...               ...                          ...   \n",
       "1468           Senior             No Stock Options   \n",
       "1469     Intermediate             No Stock Options   \n",
       "1470           Senior             No Stock Options   \n",
       "1471          Manager            Low Stock Options   \n",
       "1472           Junior            Low Stock Options   \n",
       "\n",
       "      RelationshipSatisfaction_Label  WorkLifeLabel  \n",
       "0                               Good           Good  \n",
       "1                                Few           Good  \n",
       "2                          Very Good           Good  \n",
       "3                          Very Good           Good  \n",
       "4                          Very Good           Good  \n",
       "...                              ...            ...  \n",
       "1468                       Very Good           Poor  \n",
       "1469                       Very Good      Excellent  \n",
       "1470                       Very Good           Good  \n",
       "1471                        Moderate           Good  \n",
       "1472                            Good      Excellent  \n",
       "\n",
       "[1473 rows x 39 columns]"
      ]
     },
     "execution_count": 17,
     "metadata": {},
     "output_type": "execute_result"
    }
   ],
   "source": [
    "HR_Analytics"
   ]
  },
  {
   "cell_type": "code",
   "execution_count": null,
   "id": "bfff692e-8598-4f35-a63d-02c31a29263c",
   "metadata": {},
   "outputs": [],
   "source": []
  }
 ],
 "metadata": {
  "kernelspec": {
   "display_name": "Python 3 (ipykernel)",
   "language": "python",
   "name": "python3"
  },
  "language_info": {
   "codemirror_mode": {
    "name": "ipython",
    "version": 3
   },
   "file_extension": ".py",
   "mimetype": "text/x-python",
   "name": "python",
   "nbconvert_exporter": "python",
   "pygments_lexer": "ipython3",
   "version": "3.12.7"
  }
 },
 "nbformat": 4,
 "nbformat_minor": 5
}
